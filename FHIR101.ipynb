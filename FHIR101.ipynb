{
 "cells": [
  {
   "cell_type": "markdown",
   "metadata": {},
   "source": [
    "## What is FHIR?"
   ]
  },
  {
   "cell_type": "markdown",
   "metadata": {},
   "source": [
    "FHIR stands for `Fast Healthcare Interoperability Resources`- A health data exchange specification created by the `Health Level 7` or `HL7`.\n",
    "\n",
    "There is a large, active international community that helps develop the specification. You can read more about it here: \n",
    "\n",
    "📘 Learn more about [FHIR](http://hl7.org/fhir/index.html)\n",
    "\n",
    "📘 Learn more about [HL7](http://hl7.org)"
   ]
  },
  {
   "cell_type": "markdown",
   "metadata": {},
   "source": [
    "# **If So then what is HL7** .. "
   ]
  },
  {
   "cell_type": "markdown",
   "metadata": {
    "vscode": {
     "languageId": "plaintext"
    }
   },
   "source": [
    "It is Not-for-profit, ANSI accredited standards development organization. It was established in 1987 with an objective to provide comprehensive frameork and realted standards for exchange, integration, sharing and retrieval of electronic health information."
   ]
  },
  {
   "cell_type": "markdown",
   "metadata": {},
   "source": [
    "## Timeline of standards"
   ]
  },
  {
   "cell_type": "markdown",
   "metadata": {},
   "source": [
    "Popular HL7 Standards are : \n",
    "\n",
    "    HL7 v2 (Messaging standard) <br>\n",
    "    HL7 CDA (Document standard) <br>\n",
    "    HL7 FHIR (Application level exchange) <br>\n",
    "<img src = \"./img/timeline_hl7.png\">\n",
    "\n",
    "*XDS(Cross-Enterprise Document Sharing) is not directly from the HL7 but leverages HL7 v2 (messaging protocols) to fcilitate the sharing of clincial documents*"
   ]
  },
  {
   "cell_type": "markdown",
   "metadata": {},
   "source": [
    "### HL7 V2 "
   ]
  },
  {
   "cell_type": "markdown",
   "metadata": {},
   "source": [
    "HL7 V2 is a messaging standard for the electronic exchange of healthcare information, characterized by its text-based messaging structure. It utilizes a system of delimiters like \n",
    "**|** Field Separator (pipe)\n",
    "**^** Component Seperator(hat)\n",
    "**&** Sub-component Seperator\n",
    "\n",
    "The key segments includes  \n",
    "- **MSH (Message Header):**contains details about the message's origin and routing; \n",
    ":- **PID (Patient Identification):** holds patient demographics; \n",
    "- **OBR (Observation Request):**details the order for a specific observation \n",
    "- **OBX (Observation):** carries the results of the observation.\n",
    "\n",
    "Example: \n",
    "```\n",
    "MSH|^~\\&|GHH LAB|ELAB-3|GHH OE|BLDG4|200202150930||ORU^R01|CNTRL-3456|P|2.4<cr>\n",
    "\n",
    "PID|||555-44-4444||EVERYWOMAN^EVE^E^^^^L|JONES|19620320|F|||153 FERNWOOD DR.^\n",
    " ^STATESVILLE^OH^35292||(206)3345232|(206)752-121||||AC555444444||67-A4335^OH^20030520<cr>\n",
    " \n",
    "OBR|1|845439^GHH OE|1045813^GHH LAB|15545^GLUCOSE|||200202150730|||||||||\n",
    " 555-55-5555^PRIMARY^PATRICIA P^^^^MD^^|||||||||F||||||444-44-4444^HIPPOCRATES^HOWARD H^^^^MD<cr>\n",
    "\n",
    "OBX|1|SN|1554-5^GLUCOSE^POST 12H CFST:MCNC:PT:SER/PLAS:QN||^182|mg/dl|70_105|H|||F<cr>\n",
    "```\n",
    "\n",
    "Summary : A glucose test was ordered for the patient \"Eve Everywoman\" (DOB: March 20, 1962).The test was performed at \"GHH LAB\" and was requested by Dr. Patricia P. The test result shows a glucose level of 182 mg/dl, which is considered high since the normal range is 70-105 mg/dl. Dr. Howard H. Hippocrates is also listed as a consulting physician.\n"
   ]
  },
  {
   "cell_type": "markdown",
   "metadata": {},
   "source": [
    "### HL7 V3 CDA"
   ]
  },
  {
   "cell_type": "markdown",
   "metadata": {},
   "source": [
    "HL7 V3 or CLinical Document Architecture(CDA) facilitates the exchange of standardized, structured clinical documents. It is based on RIM(reference inforamtion model).  \n",
    "Think of CDA as a way to create standardized, electronic clinical documents.  Unlike the more message-oriented HL7 v2, CDA focuses on the document as the unit of exchange.  It uses XML, making it structured and machine-readable, and it's designed to represent a snapshot (point-in-time view) of a patient's health information at a specific point in time.\n",
    "<img src = './img/egCDA.png'>\n",
    "\n",
    "A CDA document has two main parts: a \"header\" and a \"body\". The header contains metadata, like patient demographics, authorship, creation date, document type, and provider information, ensuring contextual integrity.\n",
    "\n",
    "The body contains the actual clinical information,such as diagnoses, medications, diagnostic test or procedures, follow-up plans etc."
   ]
  },
  {
   "cell_type": "markdown",
   "metadata": {},
   "source": [
    "# Back to the start: *What is FHIR*"
   ]
  },
  {
   "cell_type": "markdown",
   "metadata": {},
   "source": [
    "A specification that includes all of the following:\n",
    "- A loosely defined [base data model](https://www.hl7.org/fhir/resourcelist.html) describing things in healthcare (e.g. Patient, Specimen) and how they relate to     each other. The base data model also includes definitions and restrictions on server functionality\n",
    "- How to extend or change the base data model to fit different healthcare use cases\n",
    "- A database agnostic domain specific language (DSL) for developing files that make up the FHIR data model\n",
    "- A [RESTful web API specification](https://www.hl7.org/fhir/exchange-module.html) to create, read, update, delete, and search FHIR data in a FHIR server\n",
    "- A RESTful query language that describes how to construct search queries for a FHIR server\n",
    "- Standards for how consumers of FHIR data should be authenticated and authorized access to health data."
   ]
  },
  {
   "cell_type": "markdown",
   "metadata": {},
   "source": [
    "## However, FHIR is **NOT** ..."
   ]
  },
  {
   "cell_type": "markdown",
   "metadata": {},
   "source": [
    "- A database\n",
    "- A database schema\n",
    "- A server\n",
    "\n",
    "It is important to understand that the FHIR specification is completely technology agnostic. Thus, it does not depend on programming languages or include things like relational database schemas. It is up to the implementers to decide how to implement the data model (i.e. relational database, nosql database, etc) and RESTful API."
   ]
  }
 ],
 "metadata": {
  "language_info": {
   "name": "python"
  }
 },
 "nbformat": 4,
 "nbformat_minor": 2
}
