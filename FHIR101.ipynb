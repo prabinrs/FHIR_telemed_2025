{
  "cells": [
    {
      "cell_type": "markdown",
      "metadata": {
        "colab_type": "text",
        "id": "view-in-github"
      },
      "source": [
        "<a href=\"https://colab.research.google.com/github/prabinrs/FHIR_telemed_2025/blob/main/FHIR101.ipynb\" target=\"_parent\"><img src=\"https://colab.research.google.com/assets/colab-badge.svg\" alt=\"Open In Colab\"/></a>"
      ]
    },
    {
      "cell_type": "markdown",
      "metadata": {
        "id": "PtkZL7c3sVYj"
      },
      "source": [
        "## What is FHIR?"
      ]
    },
    {
      "cell_type": "markdown",
      "metadata": {
        "id": "QFNJnivPsVYk"
      },
      "source": [
        "FHIR stands for `Fast Healthcare Interoperability Resources`- A health data exchange specification created by the `Health Level 7` or `HL7`.\n",
        "\n",
        "There is a large, active international community that helps develop the specification. You can read more about it here:\n",
        "\n",
        "📘 Learn more about [FHIR](http://hl7.org/fhir/index.html)\n",
        "\n",
        "📘 Learn more about [HL7](http://hl7.org)"
      ]
    },
    {
      "cell_type": "markdown",
      "metadata": {
        "id": "wosV2myUsVYk"
      },
      "source": [
        "# **If So then what is HL7** .."
      ]
    },
    {
      "cell_type": "markdown",
      "metadata": {
        "id": "U404mDKMsVYk",
        "vscode": {
          "languageId": "plaintext"
        }
      },
      "source": [
        "It is Not-for-profit, ANSI accredited standards development organization. It was established in 1987 with an objective to provide comprehensive frameork and realted standards for exchange, integration, sharing and retrieval of electronic health information."
      ]
    },
    {
      "cell_type": "markdown",
      "metadata": {
        "id": "USBr3FdSsVYk"
      },
      "source": [
        "## Timeline of standards"
      ]
    },
    {
      "cell_type": "markdown",
      "metadata": {
        "id": "im_Hl_h2sVYl"
      },
      "source": [
        "Popular HL7 Standards are :\n",
        "\n",
        "    HL7 v2 (Messaging standard) <br>\n",
        "    HL7 CDA (Document standard) <br>\n",
        "    HL7 FHIR (Application level exchange) <br>\n",
        "<img src = \"./img/timeline_hl7.png\">\n",
        "\n",
        "*XDS(Cross-Enterprise Document Sharing) is not directly from the HL7 but leverages HL7 v2 (messaging protocols) to fcilitate the sharing of clincial documents*"
      ]
    },
    {
      "cell_type": "markdown",
      "metadata": {
        "id": "-SqjwXBOsVYl"
      },
      "source": [
        "### HL7 V2"
      ]
    },
    {
      "cell_type": "markdown",
      "metadata": {
        "id": "MpHtnzYxsVYl"
      },
      "source": [
        "HL7 V2 is a messaging standard for the electronic exchange of healthcare information, characterized by its text-based messaging structure. It utilizes a system of delimiters like\n",
        "**|** Field Separator (pipe)\n",
        "**^** Component Seperator(hat)\n",
        "**&** Sub-component Seperator\n",
        "\n",
        "The key segments includes  \n",
        "- **MSH (Message Header):**contains details about the message's origin and routing;\n",
        ":- **PID (Patient Identification):** holds patient demographics;\n",
        "- **OBR (Observation Request):**details the order for a specific observation\n",
        "- **OBX (Observation):** carries the results of the observation.\n",
        "\n",
        "Example:\n",
        "```\n",
        "MSH|^~\\&|GHH LAB|ELAB-3|GHH OE|BLDG4|200202150930||ORU^R01|CNTRL-3456|P|2.4<cr>\n",
        "\n",
        "PID|||555-44-4444||EVERYWOMAN^EVE^E^^^^L|JONES|19620320|F|||153 FERNWOOD DR.^\n",
        " ^STATESVILLE^OH^35292||(206)3345232|(206)752-121||||AC555444444||67-A4335^OH^20030520<cr>\n",
        "\n",
        "OBR|1|845439^GHH OE|1045813^GHH LAB|15545^GLUCOSE|||200202150730|||||||||\n",
        " 555-55-5555^PRIMARY^PATRICIA P^^^^MD^^|||||||||F||||||444-44-4444^HIPPOCRATES^HOWARD H^^^^MD<cr>\n",
        "\n",
        "OBX|1|SN|1554-5^GLUCOSE^POST 12H CFST:MCNC:PT:SER/PLAS:QN||^182|mg/dl|70_105|H|||F<cr>\n",
        "```\n",
        "\n",
        "Summary : A glucose test was ordered for the patient \"Eve Everywoman\" (DOB: March 20, 1962).The test was performed at \"GHH LAB\" and was requested by Dr. Patricia P. The test result shows a glucose level of 182 mg/dl, which is considered high since the normal range is 70-105 mg/dl. Dr. Howard H. Hippocrates is also listed as a consulting physician.\n"
      ]
    },
    {
      "cell_type": "markdown",
      "metadata": {
        "id": "50URlxTIsVYl"
      },
      "source": [
        "### HL7 V3 CDA"
      ]
    },
    {
      "cell_type": "markdown",
      "metadata": {
        "id": "2GrT2B60sVYl"
      },
      "source": [
        "HL7 V3 or CLinical Document Architecture(CDA) facilitates the exchange of standardized, structured clinical documents. It is based on RIM(reference inforamtion model).  \n",
        "Think of CDA as a way to create standardized, electronic clinical documents.  Unlike the more message-oriented HL7 v2, CDA focuses on the document as the unit of exchange.  It uses XML, making it structured and machine-readable, and it's designed to represent a snapshot (point-in-time view) of a patient's health information at a specific point in time.\n",
        "<img src = './img/egCDA.png'>\n",
        "\n",
        "A CDA document has two main parts: a \"header\" and a \"body\". The header contains metadata, like patient demographics, authorship, creation date, document type, and provider information, ensuring contextual integrity.\n",
        "\n",
        "The body contains the actual clinical information,such as diagnoses, medications, diagnostic test or procedures, follow-up plans etc."
      ]
    },
    {
      "cell_type": "markdown",
      "metadata": {
        "id": "V0v8Ym50sVYm"
      },
      "source": [
        "# Back to the start: *What is FHIR*"
      ]
    },
    {
      "cell_type": "markdown",
      "metadata": {
        "id": "K86-JJEQsVYm"
      },
      "source": [
        "A specification that includes all of the following:\n",
        "- A loosely defined [base data model](https://www.hl7.org/fhir/resourcelist.html) describing things in healthcare (e.g. Patient, Specimen) and how they relate to     each other. The base data model also includes definitions and restrictions on server functionality\n",
        "- How to extend or change the base data model to fit different healthcare use cases\n",
        "- A database agnostic domain specific language (DSL) for developing files that make up the FHIR data model\n",
        "- A [RESTful web API specification](https://www.hl7.org/fhir/exchange-module.html) to create, read, update, delete, and search FHIR data in a FHIR server\n",
        "- A RESTful query language that describes how to construct search queries for a FHIR server\n",
        "- Standards for how consumers of FHIR data should be authenticated and authorized access to health data."
      ]
    },
    {
      "cell_type": "markdown",
      "metadata": {
        "id": "UlkHdkDBsVYm"
      },
      "source": [
        "## However, FHIR is **NOT** ..."
      ]
    },
    {
      "cell_type": "markdown",
      "metadata": {
        "id": "CmvXdvNCsVYm"
      },
      "source": [
        "- A database\n",
        "- A database schema\n",
        "- A server\n",
        "\n",
        "It is important to understand that the FHIR specification is completely technology agnostic. Thus, it does not depend on programming languages or include things like relational database schemas. It is up to the implementers to decide how to implement the data model (i.e. relational database, nosql database, etc) and RESTful API."
      ]
    },
    {
      "cell_type": "markdown",
      "metadata": {
        "id": "ompzaYtfsVYm"
      },
      "source": [
        "FHIR is build using best features from V2, V3 - CDA with latest web standards, focused on implementation and use modern web technologies (RESTful APIs)"
      ]
    },
    {
      "cell_type": "markdown",
      "metadata": {
        "id": "qIXhto8bsVYm"
      },
      "source": [
        "## Concepts"
      ]
    },
    {
      "cell_type": "markdown",
      "metadata": {
        "id": "Kg6V73c7sVYm"
      },
      "source": [
        "FHIR specification have two compoents:\n",
        "1. Resources - underlinying models for healthcare (what part of data exchange)\n",
        "2. APIs - API specifications for exchanging those data models (how part of data exchange)\n",
        "\n",
        "<img src = './img/fhir_comp.png'>\n",
        "\n",
        "\n",
        "FHIR is organized in layered approach, starting wtih basic and building up to more complex functionalities.\n",
        "<img src = './img/resouces_overview.png'>\n",
        "\n",
        "📘 [Explore more](https://www.hl7.org/implement/standards/fhir/index.html)\n",
        "\n",
        "\n",
        "**Note** everything in FHIR is define as the resouces it might be very confusing, I will define these as: \n",
        "- Resource Instances --> which have actual Individual data \n",
        "- Resource Defination --> structure which defines what can be stored \n",
        "- Resource Categories --> a logical grouping of Resources"
      ]
    },
    {
      "cell_type": "markdown",
      "metadata": {
        "id": "efuPhDWfsVYm"
      },
      "source": [
        "### Resources Defination\n",
        "\n",
        "Building block of FHIR data model, these are the structures representing healthcare concepts. Think of them as blue prints for how patient information, medical records or other health-realted data is stored and managed. \n",
        "\n",
        "**The `Patient` Resource Defination might looks like**\n",
        "\n",
        "```json\n",
        "{\n",
        "  \"resourceType\" : \"Patient\",\n",
        "  \"identifier\" : [{ Identifier }], \n",
        "  \"active\" : <boolean>, \n",
        "  \"name\" : [{ HumanName }],\n",
        "  \"telecom\" : [{ ContactPoint }], \n",
        "  \"gender\" : \"<code>\", // male | female | other | unknown\n",
        "  \"birthDate\" : \"<date>\", // The date of birth for the individual\n",
        "  // deceased[x]: Indicates if the individual is deceased or not. One of these 2:\n",
        "  \"deceasedBoolean\" : <boolean>,\n",
        "  \"deceasedDateTime\" : \"<dateTime>\",\n",
        "  \"address\" : [{ Address }], // An address for the individual\n",
        "  \"maritalStatus\" : { CodeableConcept }, // Marital (civil) status of a patient\n",
        "  // multipleBirth[x]: Whether patient is part of a multiple birth. One of these 2:\n",
        "  \"multipleBirthBoolean\" : <boolean>,\n",
        "  \"multipleBirthInteger\" : <integer>,\n",
        "  \"photo\" : [{ Attachment }], // Image of the patient\n",
        "  \"contact\" : [{ // A contact party (e.g. guardian, partner, friend) for the patient\n",
        "    \"relationship\" : [{ CodeableConcept }], // The kind of relationship\n",
        "    \"name\" : { HumanName }, // I A name associated with the contact person\n",
        "    \"telecom\" : [{ ContactPoint }], // I A contact detail for the person\n",
        "    \"address\" : { Address }, // I Address for the contact person\n",
        "    \"gender\" : \"<code>\", // male | female | other | unknown\n",
        "    \"organization\" : { Reference(Organization) }, // I Organization that is associated with the contact\n",
        "    \"period\" : { Period } // The period during which this contact person or organization is valid to be contacted relating to this patient\n",
        "  }],\n",
        "  \"communication\" : [{ \n",
        "    \"language\" : { CodeableConcept }, \n",
        "    }],\n",
        "  \"generalPractitioner\" : [{ Reference(Organization|Practitioner|PractitionerRole) }], \n",
        "  \"managingOrganization\" : { Reference(Organization) },\n",
        "  \"link\" : [{ \n",
        "    \"other\" : { Reference(Patient|RelatedPerson) }, \n",
        "    \"type\" : \"<code>\"\n",
        "  }]\n",
        "}\n",
        "\n",
        "```\n",
        "\n",
        "\n",
        "### Resource Instances:\n",
        "**A `Patient` resource might look like this:**\n",
        "```json\n",
        "{\n",
        "    \"resourceType\":\"Patient\",\n",
        "    \"id\": \"PT-001\",\n",
        "    \"meta\": {\n",
        "        \"profile\": [\"http://fhir.kids-first.io/StructureDefinition/Patient\"]\n",
        "    },\n",
        "    \"gender\": \"male\",\n",
        "    \"name\": [\n",
        "        {\n",
        "            \"use\": \"usual\",\n",
        "            \"family\":\"Smith\",\n",
        "            \"given\": \"Jack\",\n",
        "            \"period\": {\n",
        "                \"end\": \"2001-01-01\"\n",
        "            }\n",
        "        }\n",
        "    ]\n",
        "}\n",
        "``` \n",
        "All these *Resources* are linked with each other.\n",
        "\n",
        "<img src = './img/lego_resources.png'>\n",
        "\n",
        "📘 [Explore more on Resouces](https://www.hl7.org/implement/standards/fhir/resourcelist.html)\n",
        "\n",
        "<img src = './img/resources_list.png'>"
      ]
    },
    {
      "cell_type": "markdown",
      "metadata": {
        "id": "2qk52hdfsVYm"
      },
      "source": [
        "### Maturaity level\n",
        "when you explore the FHIR resources, you might be able to see *N and Numbers 0-5* Next to the resources name. These are the Maturaity level of the Resources. This helps implementers to decided on weather to use the resources or not. The interpretation of maturity is as given in pic below: \n",
        "<img src = './img/MaturaityLevels.png'>\n"
      ]
    },
    {
      "cell_type": "markdown",
      "metadata": {},
      "source": [
        "### Information Model "
      ]
    },
    {
      "cell_type": "markdown",
      "metadata": {},
      "source": [
        "Information model is foundation for creating and interpreting FHIR resources oundation for creating and interpreting FHIR resources.  \n",
        "- Base classes: \n",
        "    - Elements :Elements are the individual data components within a resource. They represent the smallest units of information (e.g., a patient's name, a lab result value).\n",
        "    - Resouces (refer above as well ) : Resources are the larger, self-contained units of information. They combine multiple elements to represent a complete clinical or administrative concept. Resources are the \"containers\" for the elements.\n",
        "   \n",
        "- Definitions of Base Classes\n",
        "    - ElementDefinition: defines the properties of an individual element, such as its data type, cardinality (how many times it can occur), and allowed values.\n",
        "    - StructureDefinition: This defines the structure of a resource, including the elements it contains and their relationships\n",
        "\n",
        "- Data Types: 4 Types of Data types \n",
        "    [for details](https://www.hl7.org/implement/standards/fhir/datatypes.html)\n",
        "\n",
        "    - Primitive Types : \n",
        "        Basic data types like `string`, `boolean` \n",
        "    - General Purpose Types : \n",
        "        Re-usable clusters of elements\n",
        "\n",
        "         HumanName - A person's complete name, broken into individual parts\n",
        "\n",
        "    ```json\n",
        "        {\n",
        "        \"family\": \"Smith\",\n",
        "        \"given\": [ \"John\", \"Frank\" ],\n",
        "        \"suffix\": [ \"Jr\" ]\n",
        "        }\n",
        "    ```\n",
        "\n",
        "    - Metadata Types:\n",
        "    - Special Purpose Types: \n",
        "    \n",
        "📘 Learn about all [FHIR Data Types](https://www.hl7.org/fhir/datatypes.html)\n"
      ]
    },
    {
      "cell_type": "markdown",
      "metadata": {},
      "source": []
    }
  ],
  "metadata": {
    "colab": {
      "include_colab_link": true,
      "provenance": []
    },
    "language_info": {
      "name": "python"
    }
  },
  "nbformat": 4,
  "nbformat_minor": 0
}
