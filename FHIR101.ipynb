{
  "cells": [
    {
      "cell_type": "markdown",
      "metadata": {
        "colab_type": "text",
        "id": "view-in-github"
      },
      "source": [
        "<a href=\"https://colab.research.google.com/github/prabinrs/FHIR_telemed_2025/blob/main/FHIR101.ipynb\" target=\"_parent\"><img src=\"https://colab.research.google.com/assets/colab-badge.svg\" alt=\"Open In Colab\"/></a>"
      ]
    },
    {
      "cell_type": "markdown",
      "metadata": {
        "id": "PtkZL7c3sVYj"
      },
      "source": [
        "## What is FHIR?"
      ]
    },
    {
      "cell_type": "markdown",
      "metadata": {
        "id": "QFNJnivPsVYk"
      },
      "source": [
        "FHIR stands for `Fast Healthcare Interoperability Resources`- A health data exchange specification created by the `Health Level 7` or `HL7`.\n",
        "\n",
        "There is a large, active international community that helps develop the specification. You can read more about it here:\n",
        "\n",
        "📘 Learn more about [FHIR](http://hl7.org/fhir/index.html)\n",
        "\n",
        "📘 Learn more about [HL7](http://hl7.org)"
      ]
    },
    {
      "cell_type": "markdown",
      "metadata": {
        "id": "wosV2myUsVYk"
      },
      "source": [
        "# **If So then what is HL7** .."
      ]
    },
    {
      "cell_type": "markdown",
      "metadata": {
        "id": "U404mDKMsVYk",
        "vscode": {
          "languageId": "plaintext"
        }
      },
      "source": [
        "It is Not-for-profit, ANSI accredited standards development organization. It was established in 1987 with an objective to provide comprehensive frameork and realted standards for exchange, integration, sharing and retrieval of electronic health information."
      ]
    },
    {
      "cell_type": "markdown",
      "metadata": {
        "id": "USBr3FdSsVYk"
      },
      "source": [
        "## Timeline of standards"
      ]
    },
    {
      "cell_type": "markdown",
      "metadata": {
        "id": "im_Hl_h2sVYl"
      },
      "source": [
        "Popular HL7 Standards are :\n",
        "\n",
        "    HL7 v2 (Messaging standard) <br>\n",
        "    HL7 CDA (Document standard) <br>\n",
        "    HL7 FHIR (Application level exchange) <br>\n",
        "<img src = \"./img/timeline_hl7.png\">\n",
        "\n",
        "*XDS(Cross-Enterprise Document Sharing) is not directly from the HL7 but leverages HL7 v2 (messaging protocols) to fcilitate the sharing of clincial documents*"
      ]
    },
    {
      "cell_type": "markdown",
      "metadata": {
        "id": "-SqjwXBOsVYl"
      },
      "source": [
        "### HL7 V2"
      ]
    },
    {
      "cell_type": "markdown",
      "metadata": {
        "id": "MpHtnzYxsVYl"
      },
      "source": [
        "HL7 V2 is a messaging standard for the electronic exchange of healthcare information, characterized by its text-based messaging structure. It utilizes a system of delimiters like\n",
        "**|** Field Separator (pipe)\n",
        "**^** Component Seperator(hat)\n",
        "**&** Sub-component Seperator\n",
        "\n",
        "The key segments includes  \n",
        "- **MSH (Message Header):**contains details about the message's origin and routing;\n",
        ":- **PID (Patient Identification):** holds patient demographics;\n",
        "- **OBR (Observation Request):**details the order for a specific observation\n",
        "- **OBX (Observation):** carries the results of the observation.\n",
        "\n",
        "Example:\n",
        "```\n",
        "MSH|^~\\&|GHH LAB|ELAB-3|GHH OE|BLDG4|200202150930||ORU^R01|CNTRL-3456|P|2.4<cr>\n",
        "\n",
        "PID|||555-44-4444||EVERYWOMAN^EVE^E^^^^L|JONES|19620320|F|||153 FERNWOOD DR.^\n",
        " ^STATESVILLE^OH^35292||(206)3345232|(206)752-121||||AC555444444||67-A4335^OH^20030520<cr>\n",
        "\n",
        "OBR|1|845439^GHH OE|1045813^GHH LAB|15545^GLUCOSE|||200202150730|||||||||\n",
        " 555-55-5555^PRIMARY^PATRICIA P^^^^MD^^|||||||||F||||||444-44-4444^HIPPOCRATES^HOWARD H^^^^MD<cr>\n",
        "\n",
        "OBX|1|SN|1554-5^GLUCOSE^POST 12H CFST:MCNC:PT:SER/PLAS:QN||^182|mg/dl|70_105|H|||F<cr>\n",
        "```\n",
        "\n",
        "Summary : A glucose test was ordered for the patient \"Eve Everywoman\" (DOB: March 20, 1962).The test was performed at \"GHH LAB\" and was requested by Dr. Patricia P. The test result shows a glucose level of 182 mg/dl, which is considered high since the normal range is 70-105 mg/dl. Dr. Howard H. Hippocrates is also listed as a consulting physician.\n"
      ]
    },
    {
      "cell_type": "markdown",
      "metadata": {
        "id": "50URlxTIsVYl"
      },
      "source": [
        "### HL7 V3 CDA"
      ]
    },
    {
      "cell_type": "markdown",
      "metadata": {
        "id": "2GrT2B60sVYl"
      },
      "source": [
        "HL7 V3 or CLinical Document Architecture(CDA) facilitates the exchange of standardized, structured clinical documents. It is based on RIM(reference inforamtion model).  \n",
        "Think of CDA as a way to create standardized, electronic clinical documents.  Unlike the more message-oriented HL7 v2, CDA focuses on the document as the unit of exchange.  It uses XML, making it structured and machine-readable, and it's designed to represent a snapshot (point-in-time view) of a patient's health information at a specific point in time.\n",
        "<img src = './img/egCDA.png'>\n",
        "\n",
        "A CDA document has two main parts: a \"header\" and a \"body\". The header contains metadata, like patient demographics, authorship, creation date, document type, and provider information, ensuring contextual integrity.\n",
        "\n",
        "The body contains the actual clinical information,such as diagnoses, medications, diagnostic test or procedures, follow-up plans etc."
      ]
    },
    {
      "cell_type": "markdown",
      "metadata": {
        "id": "V0v8Ym50sVYm"
      },
      "source": [
        "# Back to the start: *What is FHIR*"
      ]
    },
    {
      "cell_type": "markdown",
      "metadata": {
        "id": "K86-JJEQsVYm"
      },
      "source": [
        "A specification that includes all of the following:\n",
        "- A loosely defined [base data model](https://www.hl7.org/fhir/resourcelist.html) describing things in healthcare (e.g. Patient, Specimen) and how they relate to     each other. The base data model also includes definitions and restrictions on server functionality\n",
        "- How to extend or change the base data model to fit different healthcare use cases\n",
        "- A database agnostic domain specific language (DSL) for developing files that make up the FHIR data model\n",
        "- A [RESTful web API specification](https://www.hl7.org/fhir/exchange-module.html) to create, read, update, delete, and search FHIR data in a FHIR server\n",
        "- A RESTful query language that describes how to construct search queries for a FHIR server\n",
        "- Standards for how consumers of FHIR data should be authenticated and authorized access to health data."
      ]
    },
    {
      "cell_type": "markdown",
      "metadata": {
        "id": "UlkHdkDBsVYm"
      },
      "source": [
        "## However, FHIR is **NOT** ..."
      ]
    },
    {
      "cell_type": "markdown",
      "metadata": {
        "id": "CmvXdvNCsVYm"
      },
      "source": [
        "- A database\n",
        "- A database schema\n",
        "- A server\n",
        "\n",
        "It is important to understand that the FHIR specification is completely technology agnostic. Thus, it does not depend on programming languages or include things like relational database schemas. It is up to the implementers to decide how to implement the data model (i.e. relational database, nosql database, etc) and RESTful API."
      ]
    },
    {
      "cell_type": "markdown",
      "metadata": {
        "id": "ompzaYtfsVYm"
      },
      "source": [
        "FHIR is build using best features from V2, V3 - CDA with latest web standards, focused on implementation and use modern web technologies (RESTful APIs)"
      ]
    },
    {
      "cell_type": "markdown",
      "metadata": {
        "id": "qIXhto8bsVYm"
      },
      "source": [
        "## Concepts"
      ]
    },
    {
      "cell_type": "markdown",
      "metadata": {
        "id": "Kg6V73c7sVYm"
      },
      "source": [
        "FHIR specification have two compoents:\n",
        "1. Resources - underlinying models for healthcare (what part of data exchange)\n",
        "2. APIs - API specifications for exchanging those data models (how part of data exchange)\n",
        "\n",
        "<img src = './img/fhir_comp.png'>\n",
        "\n",
        "\n",
        "FHIR is organized in layered approach, starting wtih basic and building up to more complex functionalities.\n",
        "<img src = './img/resouces_overview.png'>\n",
        "\n",
        "📘 [Explore more](https://www.hl7.org/implement/standards/fhir/index.html)\n",
        "\n",
        "\n",
        "**Note** everything in FHIR is define as the resouces it might be very confusing, I will define these as: \n",
        "- Resource Instances --> which have actual Individual data \n",
        "- Resource Defination --> structure which defines what can be stored \n",
        "- Resource Categories --> a logical grouping of Resources"
      ]
    },
    {
      "cell_type": "markdown",
      "metadata": {
        "id": "efuPhDWfsVYm"
      },
      "source": [
        "### Resources Defination\n",
        "\n",
        "Building block of FHIR data model, these are the structures representing healthcare concepts. Think of them as blue prints for how patient information, medical records or other health-realted data is stored and managed. \n",
        "\n",
        "**The `Patient` Resource Defination might looks like**\n",
        "\n",
        "```json\n",
        "{\n",
        "  \"resourceType\" : \"Patient\",\n",
        "  \"identifier\" : [{ Identifier }], \n",
        "  \"active\" : <boolean>, \n",
        "  \"name\" : [{ HumanName }],\n",
        "  \"telecom\" : [{ ContactPoint }], \n",
        "  \"gender\" : \"<code>\", // male | female | other | unknown\n",
        "  \"birthDate\" : \"<date>\", // The date of birth for the individual\n",
        "  // deceased[x]: Indicates if the individual is deceased or not. One of these 2:\n",
        "  \"deceasedBoolean\" : <boolean>,\n",
        "  \"deceasedDateTime\" : \"<dateTime>\",\n",
        "  \"address\" : [{ Address }], // An address for the individual\n",
        "  \"maritalStatus\" : { CodeableConcept }, // Marital (civil) status of a patient\n",
        "  // multipleBirth[x]: Whether patient is part of a multiple birth. One of these 2:\n",
        "  \"multipleBirthBoolean\" : <boolean>,\n",
        "  \"multipleBirthInteger\" : <integer>,\n",
        "  \"photo\" : [{ Attachment }], // Image of the patient\n",
        "  \"contact\" : [{ // A contact party (e.g. guardian, partner, friend) for the patient\n",
        "    \"relationship\" : [{ CodeableConcept }], // The kind of relationship\n",
        "    \"name\" : { HumanName }, // I A name associated with the contact person\n",
        "    \"telecom\" : [{ ContactPoint }], // I A contact detail for the person\n",
        "    \"address\" : { Address }, // I Address for the contact person\n",
        "    \"gender\" : \"<code>\", // male | female | other | unknown\n",
        "    \"organization\" : { Reference(Organization) }, // I Organization that is associated with the contact\n",
        "    \"period\" : { Period } // The period during which this contact person or organization is valid to be contacted relating to this patient\n",
        "  }],\n",
        "  \"communication\" : [{ \n",
        "    \"language\" : { CodeableConcept }, \n",
        "    }],\n",
        "  \"generalPractitioner\" : [{ Reference(Organization|Practitioner|PractitionerRole) }], \n",
        "  \"managingOrganization\" : { Reference(Organization) },\n",
        "  \"link\" : [{ \n",
        "    \"other\" : { Reference(Patient|RelatedPerson) }, \n",
        "    \"type\" : \"<code>\"\n",
        "  }]\n",
        "}\n",
        "\n",
        "```\n",
        "\n",
        "\n",
        "### Resource Instances:\n",
        "**A `Patient` resource might look like this:**\n",
        "```json\n",
        "{\n",
        "    \"resourceType\":\"Patient\",\n",
        "    \"id\": \"PT-001\",\n",
        "    \"meta\": {\n",
        "        \"profile\": [\"http://fhir.kids-first.io/StructureDefinition/Patient\"]\n",
        "    },\n",
        "    \"gender\": \"male\",\n",
        "    \"name\": [\n",
        "        {\n",
        "            \"use\": \"usual\",\n",
        "            \"family\":\"Smith\",\n",
        "            \"given\": \"Jack\",\n",
        "            \"period\": {\n",
        "                \"end\": \"2001-01-01\"\n",
        "            }\n",
        "        }\n",
        "    ]\n",
        "}\n",
        "``` \n",
        "All these *Resources* are linked with each other.\n",
        "\n",
        "<img src = './img/lego_resources.png'>\n",
        "\n",
        "📘 [Explore more on Resouces](https://www.hl7.org/implement/standards/fhir/resourcelist.html)\n",
        "\n",
        "<img src = './img/resources_list.png'>"
      ]
    },
    {
      "cell_type": "markdown",
      "metadata": {
        "id": "2qk52hdfsVYm"
      },
      "source": [
        "### Maturaity level\n",
        "when you explore the FHIR resources, you might be able to see *N and Numbers 0-5* Next to the resources name. These are the Maturaity level of the Resources. This helps implementers to decided on weather to use the resources or not. The interpretation of maturity is as given in pic below: \n",
        "<img src = './img/MaturaityLevels.png'>\n"
      ]
    },
    {
      "cell_type": "markdown",
      "metadata": {},
      "source": [
        "### Information Model "
      ]
    },
    {
      "cell_type": "markdown",
      "metadata": {},
      "source": [
        "Information model is foundation for creating and interpreting FHIR resources oundation for creating and interpreting FHIR resources.  \n",
        "- Base classes: \n",
        "    - Elements :Elements are the individual data components within a resource. They represent the smallest units of information (e.g., a patient's name, a lab result value).\n",
        "    - Resouces (refer above as well ) : Resources are the larger, self-contained units of information. They combine multiple elements to represent a complete clinical or administrative concept. Resources are the \"containers\" for the elements.\n",
        "   \n",
        "- Definitions of Base Classes\n",
        "    - ElementDefinition: defines the properties of an individual element, such as its data type, cardinality (how many times it can occur), and allowed values.\n",
        "    - StructureDefinition: This defines the structure of a resource, including the elements it contains and their relationships\n",
        "\n",
        "- Data Types: 4 Types of Data types \n",
        "    [for details](https://www.hl7.org/implement/standards/fhir/datatypes.html)\n",
        "\n",
        "    - Primitive Types : \n",
        "        Basic data types like `string`, `boolean` \n",
        "    - General Purpose Types : \n",
        "        Re-usable clusters of elements\n",
        "\n",
        "         HumanName - A person's complete name, broken into individual parts\n",
        "\n",
        "    ```json\n",
        "        {\n",
        "        \"family\": \"Smith\",\n",
        "        \"given\": [ \"John\", \"Frank\" ],\n",
        "        \"suffix\": [ \"Jr\" ]\n",
        "        }\n",
        "    ```\n",
        "\n",
        "    - Metadata Types:\n",
        "    - Special Purpose Types: \n",
        "    \n",
        "📘 Learn about all [FHIR Data Types](https://www.hl7.org/fhir/datatypes.html)\n"
      ]
    },
    {
      "cell_type": "markdown",
      "metadata": {},
      "source": [
        "## Terminologies in FHIR (code system)\n",
        "Many elements of FHIR resouces will have coded values, based on scope, it need to be constrained to a particular Value Set which may come from a particular terminology system (or ontology) which defines attributes, their set of valid values, and an alphanumeric code that uniquely identifies each value. \n",
        "\n",
        "For example, we may want to constrain the `bodySite` attribute on `Specimen` to only have values from [NCIT ontology's](https://bioportal.bioontology.org/ontologies/NCIT/?p=classes) `Specimen Source Site`. We can do this by defining `Terminology Resource`s and referencing them in the `StructureDefinition` for `Specimen`.\n",
        "\n",
        "Types of `Terminology Resource`s are:\n",
        "\n",
        "- `CodeSystem` - describes an Ontology, Terminology, or Enumeration\n",
        "\n",
        "- `ValueSet` - specifies a set of codes drawn from one or more code systems\n",
        "\n",
        "📘 Learn about [Terminology Resources](https://www.hl7.org/fhir/terminologies.html)"
      ]
    },
    {
      "cell_type": "markdown",
      "metadata": {},
      "source": [
        "### Real World Use Case \n",
        "we will create a simple data model that is able to capture basic demographic information about Leukemia patients that have had a biosample drawn from them.  No protected health information [(PHI)](https://www.hipaajournal.com/considered-phi-hipaa/) data should be captured. \n",
        "At a minimum we want to capture:\n",
        "\n",
        "**Patient Attributes**\n",
        "- Gender (required)\n",
        "- Race (required)\n",
        "- Biological Sex\n",
        "\n",
        "**Specimen Attributes**\n",
        "- The patient from whom the sample was drawn\n",
        "- Anatomical site or location on the body from which the sample was drawn\n",
        "- Composition - the type of sample - blood, tissue, saliva, etc."
      ]
    },
    {
      "cell_type": "markdown",
      "metadata": {},
      "source": [
        "#### Requirements\n",
        "**FHIR Server**\n",
        "\n",
        "- For this tutorial we will use [HAPI](http://hapi.fhir.org/), the open-source FHIR server behind Smile CDR.\n",
        "\n",
        "**Base URL**\n",
        "\n",
        "- All HTTP requests will be sent to the HAPI public test server's FHIR version R4 base URL: http://hapi.fhir.org/baseR4\n",
        "\n",
        "**Model Development Editor**\n",
        "\n",
        "You will need something to author JSON formatted FHIR file, I expect all of you have VsCode or similar code editor installed. There is FHIR specific tool: \n",
        "\n",
        "- **Forge** - is a [visual editor for FHIR model development](https://simplifier.net/forge), which is avaliable only for the windows and its very buggy. So, for this class lets use code editors. "
      ]
    },
    {
      "cell_type": "markdown",
      "metadata": {},
      "source": [
        "## Development Environment"
      ]
    },
    {
      "cell_type": "code",
      "execution_count": null,
      "metadata": {},
      "outputs": [],
      "source": [
        "# use the old version of requests \n",
        "! pip install requests == 2.22 "
      ]
    },
    {
      "cell_type": "code",
      "execution_count": 1,
      "metadata": {},
      "outputs": [],
      "source": [
        "# Be sure to execute this cell so that we can use the client later\n",
        "from pprint import pprint\n",
        "from client import FhirApiClient\n",
        "\n",
        "BASE_URL = 'http://hapi.fhir.org/baseR4'\n",
        "FHIR_VERSION = '4.0.0'\n",
        "client = FhirApiClient(base_url=BASE_URL, fhir_version=FHIR_VERSION)"
      ]
    },
    {
      "cell_type": "markdown",
      "metadata": {},
      "source": [
        "## Lets create Customized  Patient Resouces"
      ]
    },
    {
      "cell_type": "markdown",
      "metadata": {},
      "source": [
        "FHIR follow 80:20 rule, that is the base resouces provided covers 80% of usecases, and 20% we will need to customize to implement. \n",
        "\n",
        "So lets start by looking at the base model's `Patient` `StructureDefinition` to\n",
        "see if anything needs to be modified.\n",
        "\n",
        "`Patient StructureDefinition`:\n",
        "<img src = './img/patient_SDF.png'>\n",
        "\n",
        "[Web link for Patient StructureDefinition](https://www.hl7.org/fhir/patient.html#resource)\n",
        "\n",
        "📘 Learn about the [symbol definitions in the structure visual representations](http://hl7.org/fhir/formats.html#table)\n",
        "\n",
        "We can already see that the `Patient` `StructureDefinition` has one attribute we want:\n",
        "\n",
        "- `gender`\n",
        "\n",
        "And many attributes that we'll want to **remove** because they represent PHI fields:\n",
        "- `name`\n",
        "- `telecom`\n",
        "- `address`\n",
        "- `birthDate`\n",
        "- `contactPoint`\n",
        "- `photo`\n",
        "\n",
        "Lets use the FHIR R4 Base Patient Resouce Structure defination as template and make modification. \n",
        "\n",
        "You can search [HL7 FHIR Implementation Guideline (IG) registry](https://registry.fhir.org/guides) or [https://simplifier.net/guides](https://simplifier.net/guides) to explore pre-existing `StructureDefinations`, which you can use as template.  "
      ]
    },
    {
      "cell_type": "markdown",
      "metadata": {},
      "source": []
    },
    {
      "cell_type": "markdown",
      "metadata": {},
      "source": [
        "### Create Initial Patient StructureDefinations"
      ]
    },
    {
      "cell_type": "markdown",
      "metadata": {},
      "source": [
        "we will extend the existing FHIR R4 `StructureDefinition` for `Patient`:"
      ]
    },
    {
      "cell_type": "code",
      "execution_count": 2,
      "metadata": {},
      "outputs": [],
      "source": [
        "# Be sure to execute this cell so that we can use `patient_sd` in later code cells\n",
        "patient_sd = {\n",
        "    \"resourceType\": \"StructureDefinition\",\n",
        "    \"url\": \"http://class.data2health.info/StructureDefinition/Patient\",\n",
        "    \"version\": \"0.1.0\",\n",
        "    \"name\": \"kids_first_research_participant\",\n",
        "    \"title\": \"Kids First Research Participant\",\n",
        "    \"status\": \"draft\",\n",
        "    \"publisher\": \"Kids First DRC\",\n",
        "    \"description\": \"The individual human or other organism.\",\n",
        "    \"fhirVersion\": \"4.0.0\",\n",
        "    \"kind\": \"resource\",\n",
        "    \"abstract\": False,\n",
        "    \"type\": \"Patient\",\n",
        "    \"baseDefinition\": \"http://hl7.org/fhir/StructureDefinition/Patient\",\n",
        "    \"derivation\": \"constraint\",\n",
        "    \"differential\": {\n",
        "        \"element\": [\n",
        "            {\n",
        "                \"id\": \"Patient\",\n",
        "                \"path\": \"Patient\"\n",
        "            },\n",
        "            {\n",
        "                \"id\": \"Patient.identifier\",\n",
        "                \"path\": \"Patient.identifier\",\n",
        "                \"mustSupport\": True\n",
        "            },\n",
        "            {\n",
        "                \"id\": \"Patient.name\",\n",
        "                \"path\": \"Patient.name\",\n",
        "                \"max\": \"0\"\n",
        "            },\n",
        "            {\n",
        "                \"id\": \"Patient.telecom\",\n",
        "                \"path\": \"Patient.telecom\",\n",
        "                \"max\": \"0\"\n",
        "            },\n",
        "            {\n",
        "                \"id\": \"Patient.address\",\n",
        "                \"path\": \"Patient.address\",\n",
        "                \"max\": \"0\"\n",
        "            },\n",
        "            {\n",
        "                \"id\": \"Patient.photo\",\n",
        "                \"path\": \"Patient.photo\",\n",
        "                \"max\": \"0\"\n",
        "            },\n",
        "            {\n",
        "                \"id\": \"Patient.contact\",\n",
        "                \"path\": \"Patient.contact\",\n",
        "                \"max\": \"0\"\n",
        "            },\n",
        "            {\n",
        "                \"id\": \"Patient.gender\",\n",
        "                \"path\": \"Patient.gender\",\n",
        "                \"min\": 1\n",
        "            }\n",
        "        ]\n",
        "    }\n",
        "}"
      ]
    },
    {
      "cell_type": "markdown",
      "metadata": {},
      "source": [
        "#### Anatomy of StructureDefinition"
      ]
    },
    {
      "cell_type": "markdown",
      "metadata": {},
      "source": [
        "We won't cover this in great detail, but here are the important parts of the `StructureDefinition`:\n",
        "\n",
        "- `resourceType` - every FHIR resource has to declare what type it is\n",
        "- `baseDefinition` - this points to the `StructureDefinition` that the current one extends. It doesn't have to be one of the base FHIR definitions. It could come from any FHIR data model. This is one of the features of FHIR that helps achieve interoperability.\n",
        "- `url` - this is a required unique identifier for a `Conformance Resource`. It is a stable [canonical identifier](http://hl7.org/fhir/resource.html#canonical) for the resource and is never intended to change regardless of which FHIR server uses it.\n",
        "- `fhirVersion` - the FHIR semantic version number is required. It will instruct  anything validating this resource to use R4 (4.0.0) validation logic.\n",
        "- `differential` or `snapshot` - Every `StructureDefinition` must have either a `differential` - a section of content that specifies differences from the base definition, or a `snapshot` section which specifies the full definition. For model development, you almost always use the `differential` section and not the `snapshot`.\n",
        "\n",
        "##### Important Notes\n",
        "\n",
        "1. **Canonical URL**\n",
        "\n",
        "    Canonical URLs do not need to be live URLs. \n",
        "\n",
        "2. **Base Definition**\n",
        "\n",
        "    Let's say `StructureDefinition` A points to `StructureDefinition` B via it's `baseDefinition` attribute. In order for `StructureDefinition` A to pass validation by a FHIR server, `StructureDefinition` B MUST be already be loaded in the FHIR server.\n",
        "\n",
        "3. **Min and Max Data Types** \n",
        "\n",
        "    You may have noticed that the data types for `min` and `max` differ. This is because `max`    can be set to a number or `*` which means many/unlimited, while `min` can only be set to a     number.\n",
        "    "
      ]
    },
    {
      "cell_type": "markdown",
      "metadata": {},
      "source": [
        "📘 Learn more about [StructureDefinition anatomy](http://hl7.org/fhir/structuredefinition.html)\n",
        "\n",
        "📘 Learn more about [Resource identifiers](http://hl7.org/fhir/resource.html#identification)\n",
        "\n",
        "📘 Browse [FHIR data models from other projects](https://simplifier.net/search?searchtype=Projects)"
      ]
    },
    {
      "cell_type": "markdown",
      "metadata": {},
      "source": [
        "### Modifications made in resouces \n",
        "\n",
        "**Remove Element** : you can remove the attributes or elements by setting the maximun cardinalit to 0 for example : \n",
        "\n",
        "```json\n",
        "{\n",
        "    \"id\": \"Patient.name\",\n",
        "    \"path\": \"Patient.name\",\n",
        "    \"max\": \"0\"\n",
        "}\n",
        "```\n",
        "\n",
        "**Make Element Required** : you can do it by making minimum cardinality to 1 for example : \n",
        "\n",
        "```json\n",
        "{\n",
        "    \"id\": \"Patient.gender\",\n",
        "    \"path\": \"Patient.gender\",\n",
        "    \"min\": 1\n",
        "}\n",
        "```\n",
        "\n",
        "**Must Support**: `mustSupport` means that implementations that produce or consume resources SHALL provide \"support\" for the element in some meaningful way. It is differnt from element required (min =1)\n",
        "\n",
        "📘 You can learn more about [mustSupport](https://www.hl7.org/fhir/conformance-rules.html#mustSupport) from the HL7 FHIR spec\n",
        "\n",
        "📘 Learn about [conformance language key words](https://www.hl7.org/fhir/conformance-rules.html#conflang): SHALL, SHOULD, MAY"
      ]
    },
    {
      "cell_type": "markdown",
      "metadata": {},
      "source": [
        "### Validate the Customized Patient Structure Defination"
      ]
    },
    {
      "cell_type": "markdown",
      "metadata": {},
      "source": [
        "Validating means 2 things:\n",
        "\n",
        "1. Validate the customized `Patient` `StructureDefinition` - structure, syntax, cardinality, etc.\n",
        "2. Test both valid and invalid `Patient` instances Resources against custom Patient `StructureDefinition`\n",
        "\n",
        "📘 Learn more about [Resource Validation](https://www.hl7.org/fhir/validation.html)"
      ]
    },
    {
      "cell_type": "markdown",
      "metadata": {},
      "source": [
        "#### Validate Structure Defination"
      ]
    },
    {
      "cell_type": "code",
      "execution_count": 3,
      "metadata": {},
      "outputs": [
        {
          "name": "stdout",
          "output_type": "stream",
          "text": [
            "DELETE http://class.data2health.info/StructureDefinition/Patient\n",
            "{'request_url': 'http://hapi.fhir.org/baseR4/StructureDefinition',\n",
            " 'response': {'abstract': False,\n",
            "              'baseDefinition': 'http://hl7.org/fhir/StructureDefinition/Patient',\n",
            "              'derivation': 'constraint',\n",
            "              'description': 'The individual human or other organism.',\n",
            "              'differential': {'element': [{'id': 'Patient', 'path': 'Patient'},\n",
            "                                           {'id': 'Patient.identifier',\n",
            "                                            'mustSupport': True,\n",
            "                                            'path': 'Patient.identifier'},\n",
            "                                           {'id': 'Patient.name',\n",
            "                                            'max': '0',\n",
            "                                            'path': 'Patient.name'},\n",
            "                                           {'id': 'Patient.telecom',\n",
            "                                            'max': '0',\n",
            "                                            'path': 'Patient.telecom'},\n",
            "                                           {'id': 'Patient.address',\n",
            "                                            'max': '0',\n",
            "                                            'path': 'Patient.address'},\n",
            "                                           {'id': 'Patient.photo',\n",
            "                                            'max': '0',\n",
            "                                            'path': 'Patient.photo'},\n",
            "                                           {'id': 'Patient.contact',\n",
            "                                            'max': '0',\n",
            "                                            'path': 'Patient.contact'},\n",
            "                                           {'id': 'Patient.gender',\n",
            "                                            'min': 1,\n",
            "                                            'path': 'Patient.gender'}]},\n",
            "              'fhirVersion': '4.0.0',\n",
            "              'id': '46299026',\n",
            "              'kind': 'resource',\n",
            "              'meta': {'lastUpdated': '2025-02-25T04:21:08.817+00:00',\n",
            "                       'source': '#DMJwd7YAuyg4BQkx',\n",
            "                       'versionId': '1'},\n",
            "              'name': 'kids_first_research_participant',\n",
            "              'publisher': 'Kids First DRC',\n",
            "              'resourceType': 'StructureDefinition',\n",
            "              'status': 'draft',\n",
            "              'title': 'Kids First Research Participant',\n",
            "              'type': 'Patient',\n",
            "              'url': 'http://class.data2health.info/StructureDefinition/Patient',\n",
            "              'version': '0.1.0'},\n",
            " 'status_code': 201}\n",
            "POST http://hapi.fhir.org/baseR4/StructureDefinition, kids_first_research_participant\n"
          ]
        }
      ],
      "source": [
        "def validate(payload, expected_success=True, print_result=False):\n",
        "    rt = payload.get('resourceType')\n",
        "    endpoint = f'{client.base_url}/{rt}'\n",
        "\n",
        "    # Let's get into the habit of deleting existing instances before we create one\n",
        "    # The easiest way to do this is to search for StructureDefinitions by canonical URL and\n",
        "    # then delete what is returned (should only be 1 since canonical URL is a unique ID)\n",
        "    success = client.delete_all(endpoint, params={'url': payload['url']})\n",
        "    print(f'DELETE {payload[\"url\"]}')\n",
        "    assert success\n",
        "\n",
        "    # POST the Patient StructureDefinition to the /StructureDefinition endpoint\n",
        "    success, result = client.send_request('POST', endpoint, json=payload)\n",
        "    if print_result:\n",
        "        pprint(result)\n",
        "    print(f'POST {endpoint}, {payload.get(\"name\")}')\n",
        "    assert success == expected_success      \n",
        "\n",
        "validate(patient_sd, print_result=True)"
      ]
    },
    {
      "cell_type": "markdown",
      "metadata": {},
      "source": [
        "## Validate Patient Resouces(instances)\n",
        "\n",
        "for that we will first create the patient resouces instances then validate against structure defination. "
      ]
    },
    {
      "cell_type": "code",
      "execution_count": null,
      "metadata": {},
      "outputs": [],
      "source": [
        "# Let's start by creating a valid (has all required attributes) Patient resource\n",
        "patient_rs = {\n",
        "    \"resourceType\":\"Patient\",\n",
        "    \"id\": \"kidsfirst-test-patient\",\n",
        "    \"text\": {\n",
        "        \"status\": \"generated\",\n",
        "        \"div\": \"<div xmlns=\\\"http://www.w3.org/1999/xhtml\\\"><p>A valid patient resource for testing purposes</p></div>\"\n",
        "    },\n",
        "    \"meta\": {\n",
        "        \"profile\": [\"http://class.data2health.info/StructureDefinition/Patient\"]\n",
        "    },\n",
        "    \"gender\": \"male\"\n",
        "}"
      ]
    },
    {
      "cell_type": "markdown",
      "metadata": {},
      "source": [
        "To test the `Patient` resource against the Kids First Patient model you must declare that this resource conforms to the `Patient` `StructureDefinition` like this:\n",
        "\n",
        "```json\n",
        "\"meta\": {\n",
        "    \"profile\": [\"http://class.data2health.info/StructureDefinition/Patient\"]\n",
        "}"
      ]
    },
    {
      "cell_type": "code",
      "execution_count": 5,
      "metadata": {},
      "outputs": [
        {
          "name": "stdout",
          "output_type": "stream",
          "text": [
            "{'request_url': 'http://hapi.fhir.org/baseR4/Patient/$validate',\n",
            " 'response': {'issue': [{'code': 'informational',\n",
            "                         'diagnostics': 'No issues detected during validation',\n",
            "                         'severity': 'information'}],\n",
            "              'resourceType': 'OperationOutcome',\n",
            "              'text': {'div': '<div '\n",
            "                              'xmlns=\"http://www.w3.org/1999/xhtml\"><h1>Operation '\n",
            "                              'Outcome</h1><table border=\"0\"><tr><td '\n",
            "                              'style=\"font-weight: '\n",
            "                              'bold;\">INFORMATION</td><td>[]</td><td>No issues '\n",
            "                              'detected during '\n",
            "                              'validation</td></tr></table></div>',\n",
            "                       'status': 'generated'}},\n",
            " 'status_code': 200}\n",
            "Validate http://hapi.fhir.org/baseR4/Patient/$validate, kidsfirst-test-patient\n",
            "PUT http://hapi.fhir.org/baseR4/Patient/kidsfirst-test-patient\n"
          ]
        }
      ],
      "source": [
        "def validate_rs(payload, expected_success=True, create_on_success=True, print_result=False):\n",
        "    resource_type = payload.get('resourceType')\n",
        "    \n",
        "    # Validate by POSTing to the /Patient/$validate endpoint\n",
        "    endpoint = f\"{client.base_url}/{resource_type}/$validate\"\n",
        "\n",
        "    # Since we know this is a valid Patient resource, it should succeed\n",
        "    success, result = client.send_request('POST', endpoint, json=payload)\n",
        "    if print_result:\n",
        "        pprint(result)\n",
        "    print(f'Validate {endpoint}, {payload.get(\"id\")}')\n",
        "    assert success == expected_success\n",
        "          \n",
        "    # Now actually create the Patient resource\n",
        "    if create_on_success and success:\n",
        "        endpoint = f\"{client.base_url}/{resource_type}/{payload['id']}\"\n",
        "        success, result = client.send_request('PUT', endpoint, json=payload)\n",
        "        print(f'PUT {endpoint}')\n",
        "        assert success == expected_success  \n",
        "\n",
        "validate_rs(patient_rs, print_result=True)"
      ]
    }
  ],
  "metadata": {
    "colab": {
      "include_colab_link": true,
      "provenance": []
    },
    "kernelspec": {
      "display_name": ".venv",
      "language": "python",
      "name": "python3"
    },
    "language_info": {
      "codemirror_mode": {
        "name": "ipython",
        "version": 3
      },
      "file_extension": ".py",
      "mimetype": "text/x-python",
      "name": "python",
      "nbconvert_exporter": "python",
      "pygments_lexer": "ipython3",
      "version": "3.10.0"
    }
  },
  "nbformat": 4,
  "nbformat_minor": 0
}
